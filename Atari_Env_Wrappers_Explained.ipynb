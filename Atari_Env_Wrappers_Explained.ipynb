{
  "cells": [
    {
      "cell_type": "markdown",
      "source": [
        "#**Atari Env Wrappers for NN Explained**\n",
        "The basic gym wrappers are great, but they are not enough to make the interface with the game environment convinate to use in the training process. Therefore, we have this following code with additional environment wrappers."
      ],
      "metadata": {
        "id": "B9h49K3MN4NY"
      }
    },
    {
      "cell_type": "markdown",
      "source": [
        "\n",
        "IMPORTS"
      ],
      "metadata": {
        "id": "gFoWnJwmNich"
      }
    },
    {
      "cell_type": "code",
      "source": [
        "# @title\n",
        "########################## IMPORTS #########################################\n",
        "%pip install -U ale_py==0.8.0\n",
        "%pip install gym[atari,accept-rom-license]\n",
        "%pip install gymnasium\n",
        "import numpy as np\n",
        "import gymnasium\n",
        "import torch\n",
        "import torch.nn as nn\n",
        "import torch.optim as optim\n",
        "import torch.nn.functional as F\n",
        "from torch.utils.tensorboard import SummaryWriter\n",
        "\n",
        "import argparse\n",
        "from distutils.util import strtobool\n",
        "import collections\n",
        "import numpy as np\n",
        "import gym\n",
        "from gym.wrappers import TimeLimit #, Monitor\n",
        "from gym.spaces import Discrete, Box, MultiBinary, MultiDiscrete, Space\n",
        "import time\n",
        "import random\n",
        "import os\n",
        "\n",
        "import matplotlib\n",
        "matplotlib.use('Agg')\n",
        "import seaborn as sns\n",
        "import matplotlib.pyplot as plt\n",
        "import pandas as pd\n",
        "from PIL import Image\n",
        "from google.colab.patches import cv2_imshow\n",
        "import cv2\n",
        "import copy\n",
        "!apt-get install -y python-opengl ffmpeg\n",
        "%pip install pyvirtualdisplay\n",
        "from IPython import display as ipythondisplay\n",
        "from pyvirtualdisplay import Display\n",
        "from gym.wrappers.record_video import RecordVideo\n",
        "from IPython.display import display, HTML\n",
        "from IPython.display import clear_output\n",
        "import io\n",
        "import base64\n",
        "%pip install 'shimmy>=0.2.1'\n",
        "from gym.spaces import Discrete\n",
        "from torch.distributions.categorical import Categorical\n",
        "from collections import deque\n",
        "from gym import spaces\n",
        "cv2.ocl.setUseOpenCL(False)"
      ],
      "metadata": {
        "cellView": "form",
        "id": "4EoiLniBNfrY"
      },
      "execution_count": null,
      "outputs": []
    },
    {
      "cell_type": "markdown",
      "source": [
        "device = torch.device(\"cpu\")"
      ],
      "metadata": {
        "id": "f9ku82AzNo1v"
      }
    },
    {
      "cell_type": "code",
      "source": [
        "# @title\n",
        "if torch.cuda.is_available():\n",
        "    device = torch.device(\"cuda\")\n",
        "    print(\"Using the GPU\")\n",
        "\n",
        "else:\n",
        "    device = torch.device(\"cpu\")"
      ],
      "metadata": {
        "cellView": "form",
        "id": "txVXtv8jNrwo"
      },
      "execution_count": null,
      "outputs": []
    },
    {
      "cell_type": "markdown",
      "source": [
        "**wrap_atari**: First wrap.\n",
        "\n",
        "it's simply a function that wraps the env with the two other wrappers\n",
        "*   NoopResetEnv\n",
        "*   MaxAndSkipEnv\n",
        "\n"
      ],
      "metadata": {
        "id": "PbonvciAsqXW"
      }
    },
    {
      "cell_type": "code",
      "source": [
        "def wrap_atari(env, max_episode_steps=None):\n",
        "    assert 'NoFrameskip' in env.spec.id\n",
        "    env = NoopResetEnv(env, noop_max=30)\n",
        "    env = MaxAndSkipEnv(env, skip=4)\n",
        "\n",
        "    assert max_episode_steps is None\n",
        "\n",
        "    return env"
      ],
      "metadata": {
        "id": "yO_IerFVspjg"
      },
      "execution_count": 3,
      "outputs": []
    },
    {
      "cell_type": "markdown",
      "source": [
        "class **NoopResetEnv**:\n",
        "\n",
        "In summary, this wrapper adds a random number of no-op actions at the beginning of each episode during the reset phase. The purpose of this is to introduce variability in the initial states the agent encounters."
      ],
      "metadata": {
        "id": "w3i0dijTubXr"
      }
    },
    {
      "cell_type": "code",
      "source": [
        "class NoopResetEnv(gym.Wrapper):\n",
        "    def __init__(self, env, noop_max=30):\n",
        "        \"\"\"Sample initial states by taking random number of no-ops on reset.\n",
        "        No-op is assumed to be action 0.\n",
        "        \"\"\"\n",
        "        gym.Wrapper.__init__(self, env)\n",
        "        self.noop_max = noop_max\n",
        "        self.override_num_noops = None\n",
        "        self.noop_action = 0\n",
        "        #self.render_mode = 'human'\n",
        "        assert env.unwrapped.get_action_meanings()[0] == 'NOOP'\n",
        "\n",
        "    def reset(self, **kwargs):\n",
        "        \"\"\" Do no-op action for a number of steps in [1, noop_max].\"\"\"\n",
        "        self.env.reset(**kwargs)\n",
        "        if self.override_num_noops is not None:\n",
        "            noops = self.override_num_noops\n",
        "        else:\n",
        "            noops = self.unwrapped.np_random.integers(1, self.noop_max + 1) #pylint: disable=E1101\n",
        "        assert noops > 0\n",
        "        obs = None\n",
        "        for _ in range(noops):\n",
        "            obs, _, done, _ = self.env.step(self.noop_action)\n",
        "            if done:\n",
        "                obs = self.env.reset(**kwargs)\n",
        "        return obs\n",
        "\n",
        "    def step(self, ac):\n",
        "        return self.env.step(ac)"
      ],
      "metadata": {
        "id": "o_5z1jkqvgnu"
      },
      "execution_count": 20,
      "outputs": []
    },
    {
      "cell_type": "markdown",
      "source": [
        "In the **MaxAndSkipEnv** wrapper, the max_frame is the result of applying max pooling across the last two observations stored in the self._obs_buffer. Specifically, it's the element-wise maximum value for each pixel/channel position between the two frames.\n",
        "\n",
        " MaxAndSkipEnv wrapper, this max_frame represents a downsampled observation that captures the maximum values from the last two frames. It's a way of summarizing information from multiple consecutive frames to reduce temporal resolution and speed up learning."
      ],
      "metadata": {
        "id": "m_3NQ-sqygz3"
      }
    },
    {
      "cell_type": "code",
      "source": [
        "class MaxAndSkipEnv(gym.Wrapper):\n",
        "    def __init__(self, env, skip=4):\n",
        "        \"\"\"Return only every `skip`-th frame\"\"\"\n",
        "        gym.Wrapper.__init__(self, env)\n",
        "        # most recent raw observations (for max pooling across time steps)\n",
        "        self._obs_buffer = np.zeros((2,)+env.observation_space.shape, dtype=np.uint8)\n",
        "        self._skip       = skip\n",
        "\n",
        "    def step(self, action):\n",
        "        \"\"\"Repeat action, sum reward, and max over last observations.\"\"\"\n",
        "        total_reward = 0.0\n",
        "        done = None\n",
        "        for i in range(self._skip):\n",
        "            obs, reward, done, info = self.env.step(action)\n",
        "            if i == self._skip - 2: self._obs_buffer[0] = obs\n",
        "            if i == self._skip - 1: self._obs_buffer[1] = obs\n",
        "            total_reward += reward\n",
        "            if done:\n",
        "                break\n",
        "        # Note that the observation on the done=True frame\n",
        "        # doesn't matter\n",
        "        max_frame = self._obs_buffer.max(axis=0)\n",
        "\n",
        "        return max_frame, total_reward, done, info\n",
        "\n",
        "    def reset(self, **kwargs):\n",
        "        return self.env.reset(**kwargs)"
      ],
      "metadata": {
        "id": "NRhnsAUYwSGr"
      },
      "execution_count": 5,
      "outputs": []
    },
    {
      "cell_type": "markdown",
      "source": [
        "The **wrap_deepmind** function is a configuration utility for creating a DeepMind-style Atari environment. It takes an environment and applies a series of wrappers based on the specified options."
      ],
      "metadata": {
        "id": "5rlYTK0E0twl"
      }
    },
    {
      "cell_type": "code",
      "source": [
        "def wrap_deepmind(env, episode_life=True, clip_rewards=True, frame_stack=False, scale=False):\n",
        "    \"\"\"Configure environment for DeepMind-style Atari.\n",
        "    \"\"\"\n",
        "    if episode_life:\n",
        "        env = EpisodicLifeEnv(env)\n",
        "    if 'FIRE' in env.unwrapped.get_action_meanings():\n",
        "        env = FireResetEnv(env)\n",
        "    env = WarpFrame(env)\n",
        "    if scale:\n",
        "        env = ScaledFloatFrame(env)\n",
        "    if clip_rewards:\n",
        "        env = ClipRewardEnv(env)\n",
        "    if frame_stack:\n",
        "        env = FrameStack(env, 4)\n",
        "    return env"
      ],
      "metadata": {
        "id": "Tvk61LPC0QtH"
      },
      "execution_count": 6,
      "outputs": []
    },
    {
      "cell_type": "markdown",
      "source": [
        "class **EpisodicLifeEnv**\n",
        "\n",
        "This wrapper is designed to make the end of life equivalent to the end of an episode, but it only resets on a true game over, following the practice used by DeepMind for DQN and similar algorithms."
      ],
      "metadata": {
        "id": "_E196dNVhb5A"
      }
    },
    {
      "cell_type": "code",
      "source": [
        "class EpisodicLifeEnv(gym.Wrapper):\n",
        "    def __init__(self, env):\n",
        "        \"\"\"Make end-of-life == end-of-episode, but only reset on true game over.\n",
        "        Done by DeepMind for the DQN and co. since it helps value estimation.\n",
        "        \"\"\"\n",
        "        gym.Wrapper.__init__(self, env)\n",
        "        self.lives = 0\n",
        "        self.was_real_done  = True\n",
        "\n",
        "    def step(self, action):\n",
        "        obs, reward, done, info = self.env.step(action)\n",
        "        self.was_real_done = done\n",
        "        # check current lives, make loss of life terminal,\n",
        "        # then update lives to handle bonus lives\n",
        "        lives = self.env.unwrapped.ale.lives()\n",
        "        if lives < self.lives and lives > 0:\n",
        "            # for Qbert sometimes we stay in lives == 0 condition for a few frames\n",
        "            # so it's important to keep lives > 0, so that we only reset once\n",
        "            # the environment advertises done.\n",
        "            done = True\n",
        "        self.lives = lives\n",
        "        return obs, reward, done, info\n",
        "\n",
        "    def reset(self, **kwargs):\n",
        "        \"\"\"Reset only when lives are exhausted.\n",
        "        This way all states are still reachable even though lives are episodic,\n",
        "        and the learner need not know about any of this behind-the-scenes.\n",
        "        \"\"\"\n",
        "        if self.was_real_done:\n",
        "            obs = self.env.reset(**kwargs)\n",
        "        else:\n",
        "            # no-op step to advance from terminal/lost life state\n",
        "            obs, _, _, _ = self.env.step(0)\n",
        "        self.lives = self.env.unwrapped.ale.lives()\n",
        "        return obs\n"
      ],
      "metadata": {
        "id": "9qYg8UEp01h0"
      },
      "execution_count": 7,
      "outputs": []
    },
    {
      "cell_type": "markdown",
      "source": [
        "class **FireResetEnv**\n",
        "\n",
        "The purpose of this wrapper is to handle environments where the game is fixed until the agent takes a 'FIRE' action. After resetting the environment, it takes two additional steps to ensure that the game is in a valid state for the agent to start interacting.\n",
        "\n",
        "This kind of wrapper is useful when working with specific Atari environments where a 'FIRE' action is required to start the game or initiate a new episode."
      ],
      "metadata": {
        "id": "RyNfUhZ8h5S3"
      }
    },
    {
      "cell_type": "code",
      "source": [
        "class FireResetEnv(gym.Wrapper):\n",
        "    def __init__(self, env):\n",
        "        \"\"\"Take action on reset for environments that are fixed until firing.\"\"\"\n",
        "        gym.Wrapper.__init__(self, env)\n",
        "        assert env.unwrapped.get_action_meanings()[1] == 'FIRE'\n",
        "        assert len(env.unwrapped.get_action_meanings()) >= 3\n",
        "\n",
        "    def reset(self, **kwargs):\n",
        "        self.env.reset(**kwargs)\n",
        "        obs, _, done, _ = self.env.step(1)\n",
        "        if done:\n",
        "            self.env.reset(**kwargs)\n",
        "        obs, _, done, _ = self.env.step(2)\n",
        "        if done:\n",
        "            self.env.reset(**kwargs)\n",
        "        return obs\n",
        "\n",
        "    def step(self, ac):\n",
        "        return self.env.step(ac)\n"
      ],
      "metadata": {
        "id": "iLQXGtnc2H_4"
      },
      "execution_count": 8,
      "outputs": []
    },
    {
      "cell_type": "markdown",
      "source": [
        "class **WarpFrame**\n",
        "\n",
        "\n",
        "The WarpFrame class is an observation wrapper for Gym environments. Its purpose is to warp frames to a specified size (**84x84**, as done in the Nature paper) and possibly convert them to **grayscale**. If the environment uses dictionary observations, it allows you to specify a key indicating which observation should be warped."
      ],
      "metadata": {
        "id": "gOxXD6v12QXm"
      }
    },
    {
      "cell_type": "code",
      "source": [
        "class WarpFrame(gym.ObservationWrapper):\n",
        "    def __init__(self, env, width=84, height=84, grayscale=True, dict_space_key=None):\n",
        "        \"\"\"\n",
        "        Warp frames to 84x84 as done in the Nature paper and later work.\n",
        "        If the environment uses dictionary observations, `dict_space_key` can be specified which indicates which\n",
        "        observation should be warped.\n",
        "        \"\"\"\n",
        "        super().__init__(env)\n",
        "        self._width = width\n",
        "        self._height = height\n",
        "        self._grayscale = grayscale\n",
        "        self._key = dict_space_key\n",
        "        if self._grayscale:\n",
        "            num_colors = 1\n",
        "        else:\n",
        "            num_colors = 3\n",
        "\n",
        "        new_space = gym.spaces.Box(\n",
        "            low=0,\n",
        "            high=255,\n",
        "            shape=(self._height, self._width, num_colors),\n",
        "            dtype=np.uint8,\n",
        "        )\n",
        "        if self._key is None:\n",
        "            original_space = self.observation_space\n",
        "            self.observation_space = new_space\n",
        "        else:\n",
        "            original_space = self.observation_space.spaces[self._key]\n",
        "            self.observation_space.spaces[self._key] = new_space\n",
        "        assert original_space.dtype == np.uint8 and len(original_space.shape) == 3\n",
        "\n",
        "    def observation(self, obs):\n",
        "        if self._key is None:\n",
        "            frame = obs\n",
        "        else:\n",
        "            frame = obs[self._key]\n",
        "\n",
        "        if self._grayscale:\n",
        "            frame = cv2.cvtColor(frame, cv2.COLOR_RGB2GRAY)\n",
        "        frame = cv2.resize(\n",
        "            frame, (self._width, self._height), interpolation=cv2.INTER_AREA\n",
        "        )\n",
        "        if self._grayscale:\n",
        "            frame = np.expand_dims(frame, -1)\n",
        "\n",
        "        if self._key is None:\n",
        "            obs = frame\n",
        "        else:\n",
        "            obs = obs.copy()\n",
        "            obs[self._key] = frame\n",
        "        return obs\n"
      ],
      "metadata": {
        "id": "a58wemD72NzY"
      },
      "execution_count": 9,
      "outputs": []
    },
    {
      "cell_type": "markdown",
      "source": [
        "class **ScaledFloatFrame**\n",
        "\n",
        "This wrapper is often used in reinforcement learning with deep neural networks. Scaling the pixel values to the range [0, 1] can help with numerical stability during training, especially when using activation functions like sigmoid or hyperbolic tangent. It's worth noting the comment in the code mentioning that this operation undoes memory optimization, so it's recommended to use it with smaller replay buffers only. The reason for this caution is that scaling to [0, 1] increases the memory requirements compared to the original uint8 format (0 to 255)."
      ],
      "metadata": {
        "id": "Fcm7ARFMjVWm"
      }
    },
    {
      "cell_type": "code",
      "source": [
        "class ScaledFloatFrame(gym.ObservationWrapper):\n",
        "    def __init__(self, env):\n",
        "        gym.ObservationWrapper.__init__(self, env)\n",
        "        self.observation_space = gym.spaces.Box(low=0, high=1, shape=env.observation_space.shape, dtype=np.float32)\n",
        "\n",
        "    def observation(self, observation):\n",
        "        # careful! This undoes the memory optimization, use\n",
        "        # with smaller replay buffers only.\n",
        "        return np.array(observation).astype(np.float32) / 255.0\n",
        "\n"
      ],
      "metadata": {
        "id": "50QTNvn_22-U"
      },
      "execution_count": 10,
      "outputs": []
    },
    {
      "cell_type": "markdown",
      "source": [
        "class **ClipRewardEnv**\n",
        "\n",
        "The purpose of this wrapper is to simplify the reward signal by converting it to a binary form: -1 for negative rewards, 0 for zero rewards, and +1 for positive rewards. This kind of reward clipping can be beneficial in reinforcement learning to provide a more stable and standardized reward signal for training algorithms. It helps avoid issues related to reward scaling and can make learning more robust. However, it may also discard fine-grained information about the magnitude of rewards, so it's a trade-off depending on the specific requirements of the learning task."
      ],
      "metadata": {
        "id": "4VpjQqetjnhD"
      }
    },
    {
      "cell_type": "code",
      "source": [
        "class ClipRewardEnv(gym.RewardWrapper):\n",
        "    def __init__(self, env):\n",
        "        gym.RewardWrapper.__init__(self, env)\n",
        "\n",
        "    def reward(self, reward):\n",
        "        \"\"\"Bin reward to {+1, 0, -1} by its sign.\"\"\"\n",
        "        return np.sign(reward)"
      ],
      "metadata": {
        "id": "FIpn4DxOjp3j"
      },
      "execution_count": 11,
      "outputs": []
    },
    {
      "cell_type": "markdown",
      "source": [
        "class **FrameStack**\n",
        "\n",
        "The purpose of this wrapper is to provide the agent with temporal information by stacking the last k frames. This can help the agent capture motion and dynamics in the environment, allowing it to make more informed decisions based on recent history. The use of LazyFrames makes the implementation optimized for memory efficiency.\n",
        "\n",
        "It maintains a deque (self.frames) to store the last k frames.\n",
        "It creates a new observation space that represents the stacked frames. The shape is adjusted to include k channels in the last dimension, effectively stacking the frames.\n",
        "\n",
        "\n",
        "*reset method:*\n",
        "\n",
        "This method is called when the environment is reset.\n",
        "It resets the original environment and initializes the deque with the first observation (ob) repeated k times. It returns the stacked observation using the _get_ob method.\n",
        "\n",
        "*step method:*\n",
        "\n",
        "This method is called when the agent takes a step in the environment.\n",
        "It takes the original step and appends the new observation to the deque.\n",
        "It returns the stacked observation using the _get_ob method.\n",
        "\n",
        "*_get_ob method:*\n",
        "\n",
        "This method returns a LazyFrames object that represents the stacked frames. LazyFrames is a more memory-efficient representation.\n"
      ],
      "metadata": {
        "id": "c2E8Gmopj-m_"
      }
    },
    {
      "cell_type": "code",
      "source": [
        "\n",
        "class FrameStack(gym.Wrapper):\n",
        "    def __init__(self, env, k):\n",
        "        \"\"\"Stack k last frames.\n",
        "        Returns lazy array, which is much more memory efficient.\n",
        "        See Also\n",
        "        --------\n",
        "        baselines.common.atari_wrappers.LazyFrames\n",
        "        \"\"\"\n",
        "        gym.Wrapper.__init__(self, env)\n",
        "        self.k = k\n",
        "        self.frames = deque([], maxlen=k)\n",
        "        shp = env.observation_space.shape\n",
        "        self.observation_space = spaces.Box(low=0, high=255, shape=(shp[:-1] + (shp[-1] * k,)), dtype=env.observation_space.dtype)\n",
        "\n",
        "    def reset(self):\n",
        "        ob = self.env.reset()\n",
        "        for _ in range(self.k):\n",
        "            self.frames.append(ob)\n",
        "        return self._get_ob()\n",
        "\n",
        "    def step(self, action):\n",
        "        ob, reward, done, info = self.env.step(action)\n",
        "        self.frames.append(ob)\n",
        "        return self._get_ob(), reward, done, info\n",
        "\n",
        "    def _get_ob(self):\n",
        "        assert len(self.frames) == self.k\n",
        "        return LazyFrames(list(self.frames))"
      ],
      "metadata": {
        "id": "HIJl0fC_jzCc"
      },
      "execution_count": 12,
      "outputs": []
    },
    {
      "cell_type": "markdown",
      "source": [
        "class **LazyFrames**\n",
        "\n",
        "The LazyFrames class is designed to optimize memory usage when dealing with a sequence of frames, which is common in deep reinforcement learning scenarios with large replay buffers. The key idea is to concatenate frames along the last axis only when necessary, allowing shared memory for common frames between consecutive observations.\n",
        "\n",
        "*force method:*\n",
        "\n",
        "This method concatenates the frames along the last axis and stores the result in _out.\n",
        "It is called only when necessary to ensure that common frames are stored only once.\n",
        "After calling _force, _frames is set to None to free up memory.\n",
        "\n",
        "*array method:*\n",
        "\n",
        "This method returns the concatenated frames as a numpy array.\n",
        "Optionally, it can cast the array to a specified data type (dtype).\n"
      ],
      "metadata": {
        "id": "f9MKV5Mxl9H2"
      }
    },
    {
      "cell_type": "code",
      "source": [
        "class LazyFrames(object):\n",
        "    def __init__(self, frames):\n",
        "        \"\"\"This object ensures that common frames between the observations are only stored once.\n",
        "        It exists purely to optimize memory usage which can be huge for DQN's 1M frames replay\n",
        "        buffers.\n",
        "        This object should only be converted to numpy array before being passed to the model.\n",
        "        You'd not believe how complex the previous solution was.\"\"\"\n",
        "        self._frames = frames\n",
        "        self._out = None\n",
        "\n",
        "    def _force(self):\n",
        "        if self._out is None:\n",
        "            self._out = np.concatenate(self._frames, axis=-1)\n",
        "            self._frames = None\n",
        "        return self._out\n",
        "\n",
        "    def __array__(self, dtype=None):\n",
        "        out = self._force()\n",
        "        if dtype is not None:\n",
        "            out = out.astype(dtype)\n",
        "        return out\n",
        "\n",
        "    def __len__(self):\n",
        "        return len(self._force())\n",
        "\n",
        "    def __getitem__(self, i):\n",
        "        return self._force()[i]\n",
        "\n",
        "    def count(self):\n",
        "        frames = self._force()\n",
        "        return frames.shape[frames.ndim - 1]\n",
        "\n",
        "    def frame(self, i):\n",
        "        return self._force()[..., i]"
      ],
      "metadata": {
        "id": "MYPljc5tlDHW"
      },
      "execution_count": 13,
      "outputs": []
    },
    {
      "cell_type": "markdown",
      "source": [
        "class **ImageToPyTorch**\n",
        "\n",
        "The purpose of this wrapper is to ensure that the image observations are in the format expected by PyTorch. Many deep learning frameworks, including PyTorch, commonly use the (channels, height, width) format for images. This wrapper is useful when working with PyTorch-based models for deep reinforcement learning on Atari environments."
      ],
      "metadata": {
        "id": "nSjTRH04rs6g"
      }
    },
    {
      "cell_type": "code",
      "execution_count": 14,
      "metadata": {
        "id": "BzHHmPQSQ_OZ"
      },
      "outputs": [],
      "source": [
        "\n",
        "class ImageToPyTorch(gym.ObservationWrapper):\n",
        "    \"\"\"\n",
        "    Image shape to channels x weight x height\n",
        "    \"\"\"\n",
        "\n",
        "    def __init__(self, env):\n",
        "        super(ImageToPyTorch, self).__init__(env)\n",
        "        old_shape = self.observation_space.shape\n",
        "        self.observation_space = gym.spaces.Box(\n",
        "            low=0,\n",
        "            high=255,\n",
        "            shape=(old_shape[-1], old_shape[0], old_shape[1]),\n",
        "            dtype=np.uint8,\n",
        "        )\n",
        "\n",
        "    def observation(self, observation):\n",
        "        return np.transpose(observation, axes=(2, 0, 1))\n",
        "\n",
        "def wrap_pytorch(env):\n",
        "    return ImageToPyTorch(env)\n",
        "\n",
        "# Reference: https://arxiv.org/pdf/1707.06887.pdf\n",
        "# https://github.com/ShangtongZhang/DeepRL/blob/master/deep_rl/agent/CategoricalDQN_agent.py\n"
      ]
    },
    {
      "cell_type": "markdown",
      "source": [
        "The **image_return_distributions** function is creating a bar plot for probability mass functions (PMFs) and returning an RGB array representation of the plot.\n",
        "This function is meant to be useful for visualizing probability distributions associated with returns in a reinforcement learning context. The RGB array can be used, for example, to display the distribution in a graphical user interface or save it as an image file.\n",
        "\n",
        "\n",
        "The **image_q_values** function creates a bar plot for Q-values and return an RGB array representation of the plot."
      ],
      "metadata": {
        "id": "aV65r_p1sdE2"
      }
    },
    {
      "cell_type": "code",
      "execution_count": 15,
      "metadata": {
        "id": "TdfvnMLCT_Gq"
      },
      "outputs": [],
      "source": [
        "\n",
        "def image_return_distributions(pmfs, x_length, y_length, dpi=100):\n",
        "    fig, ax = plt.subplots(figsize=(x_length/dpi,y_length/dpi), constrained_layout=True, dpi=100)\n",
        "    current_palette = sns.color_palette(n_colors=env.action_space.n)\n",
        "    df = pd.DataFrame(pmfs.T)\n",
        "    for idx, y in enumerate(df.columns):\n",
        "        ax.bar(np.linspace(args.v_min, args.v_max, num=args.n_atoms).astype(np.int), df[y], color=current_palette[idx])\n",
        "    ax.set(xlabel='return distribution', ylabel='probs')\n",
        "    fig.canvas.draw()\n",
        "    X = np.array(fig.canvas.renderer.buffer_rgba())\n",
        "    return_distribution_rgb_array = np.array(Image.fromarray(X).convert('RGB'))\n",
        "    plt.close(fig)\n",
        "    return return_distribution_rgb_array\n",
        "\n",
        "def image_q_values(q_values, x_length, y_length, dpi=100):\n",
        "    fig, ax = plt.subplots(figsize=(x_length/dpi,y_length/dpi), constrained_layout=True, dpi=100)\n",
        "    df = pd.DataFrame(q_values.T)\n",
        "    sns.barplot(x=df.index, y=0, data=df, ax=ax)\n",
        "    ax.set(xlabel='actions', ylabel='q-values')\n",
        "    fig.canvas.draw()\n",
        "    X = np.array(fig.canvas.renderer.buffer_rgba())\n",
        "    # Image.fromarray(X)\n",
        "    q_value_rgb_array = np.array(Image.fromarray(X).convert('RGB'))\n",
        "    plt.close(fig)\n",
        "    return q_value_rgb_array\n",
        "\n"
      ]
    },
    {
      "cell_type": "markdown",
      "source": [
        "The **QValueAndReturnDistributionVisualizationWrapper** class is a custom wrapper for a Gym environment. It enhances the rendering functionality by visualizing Q-values and return distributions alongside the original environment rendering.\n",
        "\n",
        "*render method:*\n",
        "\n",
        "Overrides the render method of the superclass.\n",
        "If mode is \"rgb_array,\" it performs the following:\n",
        "\n",
        "Retrieves the original environment rendering (env_rgb_array).\n",
        "Generates RGB arrays for Q-values (self.q_value_rgb_array) and return distributions (self.return_rgb_array).\n",
        "Concatenates the visualizations horizontally and vertically and returns the result.\n",
        "\n",
        "If mode is not \"rgb_array,\" it performs the original rendering without visualization."
      ],
      "metadata": {
        "id": "O7xhwwddtSFo"
      }
    },
    {
      "cell_type": "code",
      "source": [
        "class QValueAndReturnDistributionVisualizationWrapper(gym.Wrapper):\n",
        "\n",
        "    def __init__(self, env):\n",
        "        super().__init__(env)\n",
        "        self.env.reset()\n",
        "        self.image_shape = self.env.render(mode=\"rgb_array\").shape\n",
        "        self.q_values = np.array([[0.,0.,0.,0.]])\n",
        "        self.return_pmfs = np.zeros((4, 51))\n",
        "        # self.metadata['video.frames_per_second'] = 60\n",
        "\n",
        "    def set_q_values(self, q_values):\n",
        "        #Sets the Q-values for visualization.\n",
        "        self.q_values = q_values\n",
        "\n",
        "    def set_return_pmfs(self, return_pmfs):\n",
        "        #Sets the return probability mass functions (PMFs) for visualization.\n",
        "        self.return_pmfs = return_pmfs\n",
        "\n",
        "    def rgb_render(self, mode=\"rgb_array\"):\n",
        "        env_rgb_array = super().render(mode)\n",
        "        return env_rgb_array\n",
        "\n",
        "    def render(self, mode=\"human\"):\n",
        "        if mode==\"rgb_array\":\n",
        "            env_rgb_array = super().render(mode)\n",
        "            self.q_value_rgb_array = image_q_values(\n",
        "                self.q_values, self.image_shape[1], self.image_shape[0], dpi=100)\n",
        "            self.return_rgb_array = image_return_distributions(\n",
        "                self.return_pmfs, self.image_shape[1]*2, self.image_shape[0], dpi=100)\n",
        "            return np.append(np.append(\n",
        "                env_rgb_array,\n",
        "                self.q_value_rgb_array, axis=1), self.return_rgb_array,\n",
        "                axis=0)\n",
        "        else:\n",
        "            super().render(mode)\n"
      ],
      "metadata": {
        "id": "22qCG4FstGMB"
      },
      "execution_count": null,
      "outputs": []
    },
    {
      "cell_type": "markdown",
      "source": [
        "**ProbsVisualizationWrapper**\n",
        "\n",
        "The ProbsVisualizationWrapper is a custom wrapper for an OpenAI Gym environment that adds the ability to visualize probability distributions associated with actions alongside the regular environment rendering.\n",
        "\n",
        "The render method is modified to support rendering in both \"rgb_array\" mode and \"human\" mode.\n",
        "In \"rgb_array\" mode, it visualizes the environment and overlays a bar plot of the action probabilities. The resulting RGB array is then concatenated horizontally (axis=1) with the original environment rendering (env_rgb_array).\n",
        "If mode is not \"rgb_array,\" it calls the superclass's render method for other rendering modes.\n",
        "\n",
        "This wrapper can be useful for visualizing the action probabilities while interacting with the environment. The visualization includes a bar plot showing the probabilities associated with each action."
      ],
      "metadata": {
        "id": "5WoppVQ9zcvZ"
      }
    },
    {
      "cell_type": "code",
      "source": [
        "class ProbsVisualizationWrapper(gym.Wrapper):\n",
        "    def __init__(self, env):\n",
        "        super().__init__(env)\n",
        "        self.env.reset()\n",
        "        self.image_shape = self.env.render(mode=\"rgb_array\").shape\n",
        "        self.probs = [[0.,0.,0.,0.]]\n",
        "        # self.metadata['video.frames_per_second'] = 60\n",
        "\n",
        "    def set_probs(self, probs):\n",
        "        self.probs = probs\n",
        "\n",
        "    def render(self, mode=\"human\"):\n",
        "        if mode==\"rgb_array\":\n",
        "            env_rgb_array = super().render(mode)\n",
        "            fig, ax = plt.subplots(figsize=(self.image_shape[1]/100,self.image_shape[0]/100), constrained_layout=True, dpi=100)\n",
        "            df = pd.DataFrame(np.array(self.probs).T)\n",
        "            sns.barplot(x=df.index, y=0, data=df, ax=ax)\n",
        "            ax.set(xlabel='actions', ylabel='probs')\n",
        "            fig.canvas.draw()\n",
        "            X = np.array(fig.canvas.renderer.buffer_rgba())\n",
        "            Image.fromarray(X)\n",
        "            # Image.fromarray(X)\n",
        "            rgb_image = np.array(Image.fromarray(X).convert('RGB'))\n",
        "            plt.close(fig)\n",
        "            q_value_rgb_array = rgb_image\n",
        "            return np.append(env_rgb_array, q_value_rgb_array, axis=1)\n",
        "        else:\n",
        "            super().render(mode)"
      ],
      "metadata": {
        "id": "VTbjpFQBzbCG"
      },
      "execution_count": 17,
      "outputs": []
    },
    {
      "cell_type": "code",
      "source": [
        "def wrap_deepmind(env, episode_life=True, clip_rewards=True, frame_stack=False, scale=False):\n",
        "    \"\"\"Configure environment for DeepMind-style Atari.\n",
        "    \"\"\"\n",
        "    if episode_life:\n",
        "        env = EpisodicLifeEnv(env)\n",
        "    if 'FIRE' in env.unwrapped.get_action_meanings():\n",
        "        env = FireResetEnv(env)\n",
        "    env = WarpFrame(env)\n",
        "    if scale:\n",
        "        env = ScaledFloatFrame(env)\n",
        "    if clip_rewards:\n",
        "        env = ClipRewardEnv(env)\n",
        "    if frame_stack:\n",
        "        env = FrameStack(env, 4)\n",
        "    return env"
      ],
      "metadata": {
        "id": "YyFDftY5zJrl"
      },
      "execution_count": null,
      "outputs": []
    },
    {
      "cell_type": "markdown",
      "metadata": {
        "id": "Qon_8QyrU69M"
      },
      "source": [
        "# Environment Set Up\n",
        "\n",
        "Notive the order of wraping to the environment\n",
        "\n",
        "\n",
        "1.   wrap_atari:\n",
        "\n",
        "    *   NoopResetEnv(env, noop_max=30)\n",
        "    *   MaxAndSkipEnv(env, skip=4)\n",
        "\n",
        "\n",
        "2.   gym.wrappers.RecordEpisodeStatistics\n",
        "3.   QValueAndReturnDistributionVisualizationWrapper\n",
        "4.   wrap_pytorch\n",
        "5.   wrap_deepmind:\n",
        "\n",
        "    *   EpisodicLifeEnv\n",
        "    *   FireResetEnv\n",
        "    *   WarpFrame\n",
        "    *   ScaledFloatFrame (not used)\n",
        "    *   ClipRewardEnv\n",
        "    *   FrameStack (& LazyFrames)\n",
        "\n",
        "The order of environment wrapping is crucial for the proper override of functions.\n",
        "\n",
        "\n",
        "\n",
        "\n",
        "\n"
      ]
    },
    {
      "cell_type": "code",
      "execution_count": null,
      "metadata": {
        "id": "HwDnYSWjVSrP"
      },
      "outputs": [],
      "source": [
        "capture_video = True\n",
        "# TRY NOT TO MODIFY: setup the environment\n",
        "device = torch.device('cuda' if torch.cuda.is_available() and args.cuda else 'cpu')\n",
        "env = gym.make(\"BreakoutNoFrameskip-v4\")\n",
        "env = wrap_atari(env)\n",
        "env = gym.wrappers.RecordEpisodeStatistics(env) # records episode reward in `info['episode']['r']`\n",
        "if capture_video:\n",
        "    env = QValueAndReturnDistributionVisualizationWrapper(env)\n",
        "env = wrap_pytorch(\n",
        "    wrap_deepmind(\n",
        "        env,\n",
        "        clip_rewards=True,\n",
        "        frame_stack=True,\n",
        "        scale=False,\n",
        "    )\n",
        ")\n",
        "# respect the default timelimit\n",
        "assert isinstance(env.action_space, Discrete), \"only discrete action space is supported\"\n"
      ]
    },
    {
      "cell_type": "code",
      "source": [
        "env.reset()\n",
        "next_obs, reward, done, info  = env.step(0)\n",
        "rgb_state = env.rgb_render(mode=\"rgb_array\")\n",
        "cv2_imshow(rgb_state)\n",
        "print(\"next_obs.shape=\",next_obs.shape)\n",
        "print(\"reward=\", reward), print(\"done=\", done)"
      ],
      "metadata": {
        "colab": {
          "base_uri": "https://localhost:8080/",
          "height": 301
        },
        "id": "7j5DG8npwmcE",
        "outputId": "8c02cc83-e41f-49f9-c8b1-8e7c138bb465"
      },
      "execution_count": 31,
      "outputs": [
        {
          "output_type": "display_data",
          "data": {
            "text/plain": [
              "<PIL.Image.Image image mode=RGB size=160x210>"
            ],
            "image/png": "[encoded data removed]"
          },
          "metadata": {}
        },
        {
          "output_type": "stream",
          "name": "stdout",
          "text": [
            "next_obs.shape= (4, 84, 84)\n",
            "reward= 0.0\n",
            "done= False\n"
          ]
        },
        {
          "output_type": "execute_result",
          "data": {
            "text/plain": [
              "(None, None)"
            ]
          },
          "metadata": {},
          "execution_count": 31
        }
      ]
    }
  ],
  "metadata": {
    "colab": {
      "provenance": []
    },
    "kernelspec": {
      "display_name": "Python 3",
      "name": "python3"
    },
    "language_info": {
      "name": "python"
    }
  },
  "nbformat": 4,
  "nbformat_minor": 0
}